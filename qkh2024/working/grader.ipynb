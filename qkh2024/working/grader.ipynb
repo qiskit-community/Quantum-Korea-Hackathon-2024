{
 "cells": [
  {
   "cell_type": "code",
   "execution_count": 1,
   "metadata": {},
   "outputs": [],
   "source": [
    "from qiskit_ibm_runtime.fake_provider import FakeKyiv, FakeKyoto\n",
    "from qiskit import QuantumCircuit\n",
    "from qiskit.circuit.library import QFT\n",
    "from qiskit.circuit import Instruction, Parameter\n",
    "\n",
    "from colorama import Fore\n",
    "\n",
    "\n",
    "from qiskit.transpiler.preset_passmanagers import generate_preset_pass_manager\n",
    "\n",
    "from utils import connections_backend, connections_circuit"
   ]
  },
  {
   "cell_type": "code",
   "execution_count": 2,
   "metadata": {},
   "outputs": [],
   "source": [
    "backend_kyiv = FakeKyiv()\n",
    "backend_kyoto= FakeKyoto()"
   ]
  },
  {
   "cell_type": "code",
   "execution_count": 3,
   "metadata": {},
   "outputs": [],
   "source": [
    "qc = QFT(9)\n",
    "pm_kyiv = generate_preset_pass_manager(optimization_level=1, backend=backend_kyiv)\n",
    "circuit_isa_kyiv = pm_kyiv.run(qc)\n",
    "\n",
    "pm_kyoto = generate_preset_pass_manager(optimization_level=1, backend=backend_kyoto)\n",
    "circuit_isa_kyoto = pm_kyoto.run(qc)\n",
    "\n"
   ]
  },
  {
   "cell_type": "code",
   "execution_count": 4,
   "metadata": {},
   "outputs": [],
   "source": [
    "grader_operation_check_message : str = 'Basis gate check passed!'\n",
    "def grader_operation_check(backend : any, circuit : QuantumCircuit):\n",
    "\n",
    "    \"\"\"\n",
    "    Takes a backend and a circuit and see whether the gates in the circuit are supported by the backend\n",
    "\n",
    "    Parameters : \n",
    "                backend : Target backend\n",
    "                circuit : Quantum Circuit whose gates are to be checked with the gates in the target backend\n",
    "    \"\"\"\n",
    "\n",
    "    op_names_backend : list[str] = backend.operation_names\n",
    "    op_names_circuit_dict : dict[str,int]  = circuit.count_ops().items()\n",
    "\n",
    "    for keys, val in op_names_circuit_dict:\n",
    "        if keys in op_names_backend:\n",
    "            None\n",
    "        else : \n",
    "            print(Fore.RED + f'The backend does not support {keys} gate')\n",
    "\n",
    "    return print(Fore.GREEN + grader_operation_check_message)"
   ]
  },
  {
   "cell_type": "code",
   "execution_count": 5,
   "metadata": {},
   "outputs": [
    {
     "name": "stdout",
     "output_type": "stream",
     "text": [
      "\u001b[32mBasis gate check passed!\n"
     ]
    }
   ],
   "source": [
    "grader_operation_check(backend_kyiv, circuit_isa_kyiv)\n"
   ]
  },
  {
   "cell_type": "code",
   "execution_count": 6,
   "metadata": {},
   "outputs": [
    {
     "name": "stdout",
     "output_type": "stream",
     "text": [
      "\u001b[32mBasis gate check passed!\n"
     ]
    }
   ],
   "source": [
    "grader_operation_check(backend_kyiv, circuit_isa_kyoto)\n"
   ]
  },
  {
   "cell_type": "code",
   "execution_count": 7,
   "metadata": {},
   "outputs": [],
   "source": [
    "grader_connection_check_correct_message = 'The connections match with the backend'\n",
    "grader_connection_check_incorrect_message = 'The connections does not match with the backend'\n",
    "\n",
    "def grader_connection_check(backend: any, circuit : QuantumCircuit)-> None:\n",
    "\n",
    "    \"\"\"\"\n",
    "    Takes in a Quantum Circuit and a Backend and checks whether the conections in the circuit matches \n",
    "    with the topology of the backend. \n",
    "\n",
    "    Parameters : \n",
    "                backend : Target backend in which the circuit must fit.\n",
    "                circuit : Circuit whose connections are to be matched with the backend\n",
    "\n",
    "    Returns : Message : Whether the circuit fits in the topology of the backend. \n",
    "    \"\"\"\n",
    "    conn_backend = connections_backend(backend)\n",
    "    conn_circ = connections_circuit(circuit)\n",
    "\n",
    "    gate_conn_set_backend : dict[str,set] = {}\n",
    "    for keys,items in conn_backend.items():\n",
    "        gate_conn_set_backend[keys] = set(items)\n",
    "\n",
    "    gate_conn_set_circuit : dict[str,set] = {}\n",
    "    for keys,items in conn_circ.items():\n",
    "        gate_conn_set_circuit[keys] = set(items)\n",
    "\n",
    "    check_connections : list[int] = []\n",
    "    for keys, items in gate_conn_set_circuit.items():\n",
    "        check_connections.append(int(gate_conn_set_circuit[keys].issubset(gate_conn_set_backend[keys])))\n",
    "\n",
    "    if 0 in check_connections:\n",
    "        print(Fore.RED + grader_connection_check_incorrect_message)\n",
    "\n",
    "    else : \n",
    "        print(Fore.GREEN +grader_connection_check_correct_message )"
   ]
  },
  {
   "cell_type": "code",
   "execution_count": 8,
   "metadata": {},
   "outputs": [
    {
     "name": "stdout",
     "output_type": "stream",
     "text": [
      "\u001b[32mThe connections match with the backend\n"
     ]
    }
   ],
   "source": [
    "grader_connection_check(backend_kyiv, circuit_isa_kyiv)\n"
   ]
  },
  {
   "cell_type": "code",
   "execution_count": 9,
   "metadata": {},
   "outputs": [
    {
     "name": "stdout",
     "output_type": "stream",
     "text": [
      "\u001b[31mThe connections does not match with the backend\n"
     ]
    }
   ],
   "source": [
    "grader_connection_check(backend_kyiv, circuit_isa_kyoto)\n"
   ]
  },
  {
   "cell_type": "code",
   "execution_count": null,
   "metadata": {},
   "outputs": [],
   "source": []
  },
  {
   "cell_type": "code",
   "execution_count": null,
   "metadata": {},
   "outputs": [],
   "source": []
  },
  {
   "cell_type": "code",
   "execution_count": null,
   "metadata": {},
   "outputs": [],
   "source": [
    "\n",
    "\n"
   ]
  },
  {
   "cell_type": "code",
   "execution_count": null,
   "metadata": {},
   "outputs": [],
   "source": []
  }
 ],
 "metadata": {
  "kernelspec": {
   "display_name": "base",
   "language": "python",
   "name": "python3"
  },
  "language_info": {
   "codemirror_mode": {
    "name": "ipython",
    "version": 3
   },
   "file_extension": ".py",
   "mimetype": "text/x-python",
   "name": "python",
   "nbconvert_exporter": "python",
   "pygments_lexer": "ipython3",
   "version": "3.11.7"
  }
 },
 "nbformat": 4,
 "nbformat_minor": 2
}

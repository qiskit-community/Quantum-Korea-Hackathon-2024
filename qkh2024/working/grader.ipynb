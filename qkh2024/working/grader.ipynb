{
 "cells": [
  {
   "cell_type": "code",
   "execution_count": 2,
   "metadata": {},
   "outputs": [],
   "source": [
    "from qiskit_ibm_runtime.fake_provider import FakeKyiv, FakeKyoto\n",
    "from qiskit import QuantumCircuit\n",
    "from qiskit.circuit.library import QFT\n",
    "from qiskit.circuit import Instruction, Parameter\n",
    "\n",
    "from colorama import Fore\n",
    "\n",
    "\n",
    "from qiskit.transpiler.preset_passmanagers import generate_preset_pass_manager\n",
    "from qiskit_aer import AerSimulator\n",
    "from qiskit.compiler import transpile\n",
    "from qiskit.circuit.library import QFT\n",
    "from qiskit_ibm_runtime.fake_provider import FakeMelbourne\n",
    "\n",
    "from utils import connections_backend, connections_circuit\n",
    "\n"
   ]
  },
  {
   "cell_type": "code",
   "execution_count": 3,
   "metadata": {},
   "outputs": [],
   "source": [
    "backend_kyiv = FakeKyiv()\n",
    "backend_kyoto= FakeKyoto()"
   ]
  },
  {
   "cell_type": "code",
   "execution_count": 27,
   "metadata": {},
   "outputs": [],
   "source": [
    "qc = QFT(4)\n",
    "pm_kyiv = generate_preset_pass_manager(optimization_level=1, backend=backend_kyiv)\n",
    "circuit_isa_kyiv = pm_kyiv.run(qc)\n",
    "\n",
    "pm_kyoto = generate_preset_pass_manager(optimization_level=1, backend=backend_kyoto)\n",
    "circuit_isa_kyoto = pm_kyoto.run(qc)\n",
    "\n"
   ]
  },
  {
   "cell_type": "code",
   "execution_count": 4,
   "metadata": {},
   "outputs": [],
   "source": [
    "grader_operation_check_message : str = 'Basis gate check passed!'\n",
    "def grader_operation_check(backend : any, circuit : QuantumCircuit):\n",
    "\n",
    "    \"\"\"\n",
    "    Takes a backend and a circuit and see whether the gates in the circuit are supported by the backend\n",
    "\n",
    "    Parameters : \n",
    "                backend : Target backend\n",
    "                circuit : Quantum Circuit whose gates are to be checked with the gates in the target backend\n",
    "    \"\"\"\n",
    "\n",
    "    op_names_backend : list[str] = backend.operation_names\n",
    "    op_names_circuit_dict : dict[str,int]  = circuit.count_ops().items()\n",
    "\n",
    "    for keys, val in op_names_circuit_dict:\n",
    "        if keys in op_names_backend:\n",
    "            None\n",
    "        else : \n",
    "            print(Fore.RED + f'The backend does not support {keys} gate')\n",
    "\n",
    "    return print(Fore.GREEN + grader_operation_check_message)"
   ]
  },
  {
   "cell_type": "code",
   "execution_count": 5,
   "metadata": {},
   "outputs": [
    {
     "name": "stdout",
     "output_type": "stream",
     "text": [
      "\u001b[32mBasis gate check passed!\n"
     ]
    }
   ],
   "source": [
    "grader_operation_check(backend_kyiv, circuit_isa_kyiv)\n"
   ]
  },
  {
   "cell_type": "code",
   "execution_count": 6,
   "metadata": {},
   "outputs": [
    {
     "name": "stdout",
     "output_type": "stream",
     "text": [
      "\u001b[32mBasis gate check passed!\n"
     ]
    }
   ],
   "source": [
    "grader_operation_check(backend_kyiv, circuit_isa_kyoto)\n"
   ]
  },
  {
   "cell_type": "code",
   "execution_count": 7,
   "metadata": {},
   "outputs": [],
   "source": [
    "grader_connection_check_correct_message = 'The connections match with the backend'\n",
    "grader_connection_check_incorrect_message = 'The connections does not match with the backend'\n",
    "\n",
    "def grader_connection_check(backend: any, circuit : QuantumCircuit)-> None:\n",
    "\n",
    "    \"\"\"\"\n",
    "    Takes in a Quantum Circuit and a Backend and checks whether the conections in the circuit matches \n",
    "    with the topology of the backend. \n",
    "\n",
    "    Parameters : \n",
    "                backend : Target backend in which the circuit must fit.\n",
    "                circuit : Circuit whose connections are to be matched with the backend\n",
    "\n",
    "    Returns : Message : Whether the circuit fits in the topology of the backend. \n",
    "    \"\"\"\n",
    "    conn_backend = connections_backend(backend)\n",
    "    conn_circ = connections_circuit(circuit)\n",
    "\n",
    "    gate_conn_set_backend : dict[str,set] = {}\n",
    "    for keys,items in conn_backend.items():\n",
    "        gate_conn_set_backend[keys] = set(items)\n",
    "\n",
    "    gate_conn_set_circuit : dict[str,set] = {}\n",
    "    for keys,items in conn_circ.items():\n",
    "        gate_conn_set_circuit[keys] = set(items)\n",
    "\n",
    "    check_connections : list[int] = []\n",
    "    for keys, items in gate_conn_set_circuit.items():\n",
    "        check_connections.append(int(gate_conn_set_circuit[keys].issubset(gate_conn_set_backend[keys])))\n",
    "\n",
    "    if 0 in check_connections:\n",
    "        print(Fore.RED + grader_connection_check_incorrect_message)\n",
    "\n",
    "    else : \n",
    "        print(Fore.GREEN +grader_connection_check_correct_message )"
   ]
  },
  {
   "cell_type": "code",
   "execution_count": 8,
   "metadata": {},
   "outputs": [
    {
     "name": "stdout",
     "output_type": "stream",
     "text": [
      "\u001b[32mThe connections match with the backend\n"
     ]
    }
   ],
   "source": [
    "grader_connection_check(backend_kyiv, circuit_isa_kyiv)\n"
   ]
  },
  {
   "cell_type": "code",
   "execution_count": 9,
   "metadata": {},
   "outputs": [
    {
     "name": "stdout",
     "output_type": "stream",
     "text": [
      "\u001b[31mThe connections does not match with the backend\n"
     ]
    }
   ],
   "source": [
    "grader_connection_check(backend_kyiv, circuit_isa_kyoto)\n"
   ]
  },
  {
   "cell_type": "code",
   "execution_count": null,
   "metadata": {},
   "outputs": [],
   "source": [
    "circuit_target = QFT(4)\n",
    "simulator = AerSimulator(method = \"statevector\")\n",
    "backend_melbourne = FakeMelbourne()\n",
    "circuit_target = transpile(circuit_target, backend = simulator)\n",
    "circuit_test = transpile(circuit_target, backend = backend_melbourne)"
   ]
  },
  {
   "cell_type": "code",
   "execution_count": 136,
   "metadata": {},
   "outputs": [],
   "source": [
    "def counts(circuit : QuantumCircuit, backend = simulator) -> dict[str, int]:\n",
    "    \"\"\"\n",
    "    Function to add measurements to a provided circuit and run it on the Aer Simulator.\n",
    "\n",
    "    Parameters \n",
    "        circuit : Quantum Circuit \n",
    "        backend : default = AerSimulator\n",
    "\n",
    "    Returns  \n",
    "        counts in a dict.\n",
    "\n",
    "    \"\"\"\n",
    "\n",
    "    if 'measure' in circuit.count_ops():\n",
    "        None\n",
    "    else : \n",
    "        circuit.measure_active()\n",
    "    result = simulator.run(circuit, backend = simulator).result()\n",
    "    counts = result.get_counts()\n",
    "\n",
    "    return counts"
   ]
  },
  {
   "cell_type": "code",
   "execution_count": 137,
   "metadata": {},
   "outputs": [],
   "source": [
    "def grader_circuit_accuracy(circuit_target: QuantumCircuit, circuit_test : QuantumCircuit, backend : any = simulator):\n",
    "    \"\"\"\n",
    "    Takes the test circuit and compares it with the target circuit\n",
    "    \n",
    "    \"\"\"\n",
    "\n",
    "    circuit_target = transpile(circuit_target, backend = simulator)\n",
    "    circuit_test = transpile(circuit_test, backend = simulator)\n",
    "\n",
    "    counts_target = counts(circuit_target)\n",
    "    counts_test = counts(circuit_test)\n",
    "    \n",
    "    return counts_target, counts_test\n"
   ]
  },
  {
   "cell_type": "code",
   "execution_count": 138,
   "metadata": {},
   "outputs": [
    {
     "data": {
      "text/plain": [
       "({'1001': 69,\n",
       "  '0001': 75,\n",
       "  '1010': 58,\n",
       "  '0111': 57,\n",
       "  '1011': 63,\n",
       "  '1000': 73,\n",
       "  '0100': 50,\n",
       "  '1111': 58,\n",
       "  '0011': 72,\n",
       "  '0101': 78,\n",
       "  '1101': 64,\n",
       "  '0000': 62,\n",
       "  '1100': 61,\n",
       "  '0010': 55,\n",
       "  '1110': 66,\n",
       "  '0110': 63},\n",
       " {'0001': 60,\n",
       "  '1001': 65,\n",
       "  '1010': 90,\n",
       "  '0100': 61,\n",
       "  '1100': 64,\n",
       "  '1011': 58,\n",
       "  '0000': 74,\n",
       "  '0101': 67,\n",
       "  '1101': 66,\n",
       "  '1111': 63,\n",
       "  '1110': 76,\n",
       "  '1000': 67,\n",
       "  '0111': 59,\n",
       "  '0110': 55,\n",
       "  '0010': 37,\n",
       "  '0011': 62})"
      ]
     },
     "execution_count": 138,
     "metadata": {},
     "output_type": "execute_result"
    }
   ],
   "source": [
    "grader_circuit_accuracy(circuit_target, circuit_test)"
   ]
  },
  {
   "cell_type": "code",
   "execution_count": 125,
   "metadata": {},
   "outputs": [],
   "source": []
  },
  {
   "cell_type": "code",
   "execution_count": 126,
   "metadata": {},
   "outputs": [
    {
     "name": "stdout",
     "output_type": "stream",
     "text": [
      "{'0011': 66, '1100': 73, '0001': 75, '1101': 73, '1111': 70, '1011': 58, '0010': 69, '1110': 43, '1000': 65, '1010': 62, '1001': 61, '0100': 65, '0110': 62, '0101': 61, '0000': 65, '0111': 56}\n",
      "{'1000': 61, '1110': 59, '1111': 74, '0110': 67, '0100': 62, '1010': 55, '0011': 63, '0010': 58, '1101': 52, '1001': 71, '0111': 61, '0000': 79, '0101': 59, '0001': 78, '1100': 66, '1011': 59}\n"
     ]
    }
   ],
   "source": []
  },
  {
   "cell_type": "code",
   "execution_count": 119,
   "metadata": {},
   "outputs": [
    {
     "data": {
      "text/plain": [
       "{'1101': 65,\n",
       " '0110': 55,\n",
       " '1111': 72,\n",
       " '1110': 53,\n",
       " '0001': 49,\n",
       " '1010': 67,\n",
       " '1100': 57,\n",
       " '1000': 78,\n",
       " '0010': 66,\n",
       " '0000': 76,\n",
       " '1011': 50,\n",
       " '0101': 76,\n",
       " '0111': 66,\n",
       " '0100': 67,\n",
       " '0011': 63,\n",
       " '1001': 64}"
      ]
     },
     "execution_count": 119,
     "metadata": {},
     "output_type": "execute_result"
    }
   ],
   "source": [
    "counts(circuit_test)"
   ]
  },
  {
   "cell_type": "code",
   "execution_count": null,
   "metadata": {},
   "outputs": [],
   "source": [
    "\n",
    "\n"
   ]
  },
  {
   "cell_type": "code",
   "execution_count": null,
   "metadata": {},
   "outputs": [],
   "source": []
  }
 ],
 "metadata": {
  "kernelspec": {
   "display_name": "base",
   "language": "python",
   "name": "python3"
  },
  "language_info": {
   "codemirror_mode": {
    "name": "ipython",
    "version": 3
   },
   "file_extension": ".py",
   "mimetype": "text/x-python",
   "name": "python",
   "nbconvert_exporter": "python",
   "pygments_lexer": "ipython3",
   "version": "3.11.7"
  }
 },
 "nbformat": 4,
 "nbformat_minor": 2
}

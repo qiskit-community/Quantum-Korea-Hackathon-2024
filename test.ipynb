{
 "cells": [
  {
   "cell_type": "code",
   "execution_count": null,
   "metadata": {},
   "outputs": [],
   "source": [
    "# Install required packages\n",
    "%pip install qiskit[visualization]\n",
    "%pip install qiskit-aer\n",
    "%pip install qiskit-ibm-runtime\n",
    "%pip install qiskit-transpiler-service"
   ]
  },
  {
   "cell_type": "code",
   "execution_count": null,
   "metadata": {},
   "outputs": [],
   "source": [
    "import numpy as np\n",
    "from qiskit import QuantumCircuit\n",
    "from qiskit.circuit.library import QFT\n",
    "from qiskit_ibm_runtime import QiskitRuntimeService\n",
    "from qiskit_transpiler_service.transpiler_service import TranspilerService\n",
    "from qkh2024.grader import scorer"
   ]
  },
  {
   "cell_type": "code",
   "execution_count": null,
   "metadata": {},
   "outputs": [],
   "source": [
    "# Save your IBM Quantum account instance\n",
    "# See here for more details: https://docs.quantum.ibm.com/start/setup-channel\n",
    "QiskitRuntimeService.save_account(\n",
    "    channel='ibm_quantum',\n",
    "    instance='ibm-q-skku/quantum-hackathon-2024/hackathon',\n",
    "    token='<MY_IBM_QUANTUM_TOKEN>',\n",
    "    overwrite=True\n",
    ")"
   ]
  },
  {
   "cell_type": "code",
   "execution_count": null,
   "metadata": {},
   "outputs": [],
   "source": [
    "service = QiskitRuntimeService()\n",
    "backend = service.backend(\"ibm_sherbrooke\")\n",
    "scorer = scorer()"
   ]
  },
  {
   "cell_type": "markdown",
   "metadata": {},
   "source": [
    "## Qiskit Transpiler Service"
   ]
  },
  {
   "cell_type": "code",
   "execution_count": null,
   "metadata": {},
   "outputs": [],
   "source": [
    "transpiler_list = []\n",
    "transpiler_list.append(TranspilerService( \n",
    "    backend_name=\"ibm_sherbrooke\", \n",
    "    ai=\"false\", \n",
    "    optimization_level=1, \n",
    "))\n",
    "transpiler_list.append(TranspilerService( \n",
    "    backend_name=\"ibm_sherbrooke\", \n",
    "    ai=\"false\", \n",
    "    optimization_level=2, \n",
    "))\n",
    "transpiler_list.append(TranspilerService( \n",
    "    backend_name=\"ibm_sherbrooke\", \n",
    "    ai=\"false\", \n",
    "    optimization_level=3, \n",
    "))\n",
    "transpiler_list.append(TranspilerService(\n",
    "    backend_name=\"ibm_sherbrooke\", \n",
    "    ai=\"true\", \n",
    "    optimization_level=3, \n",
    "))"
   ]
  },
  {
   "cell_type": "code",
   "execution_count": null,
   "metadata": {},
   "outputs": [],
   "source": [
    "tr_depths = [[], [], [], []]\n",
    "tr_gate_counts = [[], [], [], []]\n",
    "tr_cnot_counts = [[], [], [], []]\n",
    "tr_scores = [[], [], [], []]"
   ]
  },
  {
   "cell_type": "code",
   "execution_count": null,
   "metadata": {},
   "outputs": [],
   "source": [
    "# Transpile and collect result stats\n",
    "num_qubits = np.arange(2, 15)\n",
    "\n",
    "for nq in num_qubits:\n",
    "    print(f'Start transpiling the {nq}-qubit circuit')\n",
    "    circuit = QuantumCircuit(nq)\n",
    "    circuit.h(range(nq))\n",
    "    circuit.append(QFT(nq, do_swaps=False, inverse=True).decompose(), range(nq))\n",
    "    for i in range(4):\n",
    "        isa_circuit = transpiler_list[i].run(circuit)\n",
    "        scorer.validate(circuit, isa_circuit, backend)\n",
    "        tr_depths[i].append(isa_circuit.depth())\n",
    "        tr_gate_counts[i].append(sum(isa_circuit.count_ops().values()))\n",
    "        tr_cnot_counts[i].append(isa_circuit.num_nonlocal_gates())\n",
    "        tr_scores[i].append(scorer.score(isa_circuit, backend))"
   ]
  },
  {
   "cell_type": "code",
   "execution_count": null,
   "metadata": {},
   "outputs": [],
   "source": [
    "import matplotlib.pyplot as plt\n",
    "\n",
    "ax = num_qubits\n",
    "opt_list = ['Optimization Level 1', 'Optimization Level 2', 'Optimization Level 3', 'AI Optimization']\n",
    "markers = ['o', 's', '^', '*']\n",
    "linestyles = ['-', '--', '-.', ':']\n",
    "colors = ['#FF6666', '#FFCC66', '#99FF99', '#66B2FF']\n",
    "\n",
    "fig, (ax1, ax2, ax3, ax4) = plt.subplots(4, 1, figsize=(10, 16))\n",
    "\n",
    "# Plot 1: Circuit Depth\n",
    "for i in range(4):\n",
    "    ax1.plot(ax, tr_depths[i], label=opt_list[i], marker=markers[i], markersize=9, linestyle=linestyles[i], color=colors[i], linewidth=2)\n",
    "ax1.set_xlabel(\"Number of qubits\", fontsize=12)\n",
    "ax1.set_ylabel(\"Depth\", fontsize=12)\n",
    "ax1.set_title(\"Circuit Depth of Transpiled Circuit\", fontsize=14)\n",
    "ax1.legend(fontsize=10)\n",
    "\n",
    "# Plot 2: Total Number of Gates\n",
    "for i in range(4):\n",
    "    ax2.plot(ax, tr_gate_counts[i], label=opt_list[i], marker=markers[i], markersize=9, linestyle=linestyles[i], color=colors[i], linewidth=2)\n",
    "ax2.set_xlabel(\"Number of qubits\", fontsize=12)\n",
    "ax2.set_ylabel(\"# of Total Gates\", fontsize=12)\n",
    "ax2.set_title(\"Total Number of Gates of Transpiled Circuit\", fontsize=14)\n",
    "ax2.legend(fontsize=10)\n",
    "\n",
    "# Plot 3: Total Number of CNOTs\n",
    "for i in range(4):\n",
    "    ax3.plot(ax, tr_cnot_counts[i], label=opt_list[i], marker=markers[i],markersize=9, linestyle=linestyles[i], color=colors[i], linewidth=2)\n",
    "ax3.set_xlabel(\"Number of qubits\", fontsize=12)\n",
    "ax3.set_ylabel(\"# of CNOTs\", fontsize=12)\n",
    "ax3.set_title(\"Total Number of CNOTs of Transpiled Circuit\", fontsize=14)\n",
    "ax3.legend(fontsize=10)\n",
    "\n",
    "# Plot 4: Score of Transpiled Circuit\n",
    "for i in range(4):\n",
    "    ax4.plot(ax, tr_scores[i], label=opt_list[i], marker=markers[i], markersize=9, linestyle=linestyles[i], color=colors[i], linewidth=2)\n",
    "ax4.set_xlabel(\"Number of qubits\", fontsize=12)\n",
    "ax4.set_ylabel(\"Score of Transpiled Circuit\", fontsize=12)\n",
    "ax4.set_title(\"Score of Transpiled Circuit\", fontsize=14)\n",
    "ax4.legend(fontsize=10)\n",
    "\n",
    "fig.tight_layout()\n",
    "plt.show()"
   ]
  }
 ],
 "metadata": {
  "kernelspec": {
   "display_name": "iqc2024-1.1.0",
   "language": "python",
   "name": "python3"
  },
  "language_info": {
   "codemirror_mode": {
    "name": "ipython",
    "version": 3
   },
   "file_extension": ".py",
   "mimetype": "text/x-python",
   "name": "python",
   "nbconvert_exporter": "python",
   "pygments_lexer": "ipython3",
   "version": "3.10.9"
  }
 },
 "nbformat": 4,
 "nbformat_minor": 2
}
